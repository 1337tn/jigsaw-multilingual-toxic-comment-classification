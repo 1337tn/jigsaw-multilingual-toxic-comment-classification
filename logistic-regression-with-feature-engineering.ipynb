{
 "cells": [
  {
   "cell_type": "code",
   "execution_count": 1,
   "metadata": {
    "_cell_guid": "b1076dfc-b9ad-4769-8c92-a6c4dae69d19",
    "_uuid": "8f2839f25d086af736a60e9eeb907d3b93b6e0e5"
   },
   "outputs": [],
   "source": [
    "%matplotlib inline\n",
    "import warnings\n",
    "warnings.filterwarnings(\"ignore\")\n",
    "\n",
    "import sqlite3\n",
    "import pandas as pd\n",
    "import numpy as np\n",
    "import nltk\n",
    "import string\n",
    "import matplotlib.pyplot as plt\n",
    "import seaborn as sns\n",
    "from sklearn.feature_extraction.text import TfidfTransformer\n",
    "from sklearn.feature_extraction.text import TfidfVectorizer\n",
    "\n",
    "from sklearn.feature_extraction.text import CountVectorizer\n",
    "from sklearn.metrics import confusion_matrix\n",
    "from sklearn import metrics\n",
    "from sklearn.metrics import roc_curve, auc\n",
    "from nltk.stem.porter import PorterStemmer\n",
    "\n",
    "import re\n",
    "# Tutorial about Python regular expressions: https://pymotw.com/2/re/\n",
    "import string\n",
    "from nltk.corpus import stopwords\n",
    "from nltk.stem import PorterStemmer\n",
    "from nltk.stem.wordnet import WordNetLemmatizer\n",
    "\n",
    "from gensim.models import Word2Vec\n",
    "from gensim.models import KeyedVectors\n",
    "import pickle\n",
    "\n",
    "from tqdm import tqdm\n",
    "import os"
   ]
  },
  {
   "cell_type": "markdown",
   "execution_count": null,
   "metadata": {},
   "source": [
    "## Importing Data : \n",
    "* Data is imported from a different source as the original dataset contains comments in languages other than english as well and since we are implementing Logistic Regression with lots of feature engineering, it is better to work with a uniform and consistent data. \n"
   ]
  },
  {
   "cell_type": "code",
   "execution_count": 2,
   "metadata": {
    "_cell_guid": "79c7e3d0-c299-4dcb-8224-4455121ee9b0",
    "_uuid": "d629ff2d2480ee46fbb7e2d37f6b5fab8052498a"
   },
   "outputs": [
    {
     "name": "stdout",
     "output_type": "stream",
     "text": [
      "Number of data points in training set 1:  223549\n",
      "Number of data points in training set 2:  247396\n",
      "Number of data points in total training set 1:  470945\n",
      "Number of data points in validation set:  8000\n",
      "Number of data points in test set :  63812\n"
     ]
    }
   ],
   "source": [
    "train1  = pd.read_csv(\"../input/jigsaw-multilingual-toxic-comment-classification/jigsaw-toxic-comment-train.csv\").dropna()\n",
    "train2 = pd.read_csv(\"../input/jigsaw-multilingual-toxic-comment-classification/jigsaw-unintended-bias-train.csv\").dropna()\n",
    "valid = pd.read_csv('../input/jigsaw-translate-en/validation_en.csv')\n",
    "test = pd.read_csv('../input/jigsaw-translate-en/test_en.csv')\n",
    "sub = pd.read_csv('/kaggle/input/jigsaw-multilingual-toxic-comment-classification/sample_submission.csv')\n",
    "print(\"Number of data points in training set 1: \", train1.shape[0])\n",
    "print(\"Number of data points in training set 2: \", train2.shape[0])\n",
    "print(\"Number of data points in total training set 1: \", (train1.shape[0]+train2.shape[0]))\n",
    "print(\"Number of data points in validation set: \", valid.shape[0])\n",
    "print(\"Number of data points in test set : \", test.shape[0])\n"
   ]
  },
  {
   "cell_type": "code",
   "execution_count": 3,
   "metadata": {},
   "outputs": [
    {
     "name": "stdout",
     "output_type": "stream",
     "text": [
      "This is a great story. Man. I wonder if the person who yelled \"shut the fuck up!\" at him ever heard it. \n",
      "\n",
      "Get a better dictionary.  You are a bigot,   All the little quibbles about whether someone spelled \"minuscule\" correctly, or whether homophobia means  \"fear\" of  John is just your way of denying your bigotry.. \n",
      "\n",
      "So who gets to be the genital checker? You? So because you had a bad experience with one transgender person compared to the likely dozens of times you had no problem whatsoever using the bathroom with trans people, they now have no place in this world? Get over yourself, theres room enough here for everyone, even the people you don't like. \n",
      "\n",
      "At no time do you ever have anything remotely intelligent to offer public debate. That would require intelligence. neither do you know how to be a man, and man up when your ignorance is addressed with irrefutable fact. That would require character. What a daft deluded fool like you fails to understand is the fact you are the political twin of right wing Christian nut cases. \n",
      "\n",
      "Loser posts about losing, imagine that......Dick, you've done it for me. I've tried my best to read something positive in all your fitful posts but I'm done trying because, as I suspected and now know for certain, there is not a scintilla of value. \n",
      "\n",
      "Adult bodies, elementary school brains. \n",
      "\n",
      "MINSHALL  i think a JEW would be a better assemblyman than you ! \n",
      "\n",
      "[None, None, None, None, None, None, None]\n"
     ]
    }
   ],
   "source": [
    "print([print('{} \\n'.format(i)) for i in train2.comment_text[(train2.toxic>0.4) & (train2.toxic <0.5)][:7]])"
   ]
  },
  {
   "cell_type": "markdown",
   "execution_count": null,
   "metadata": {},
   "source": [
    "- As we can see that comments with a toxicity score of more than 0.4 but less than 0.5 can also be considered as toxic, It might be wise to set the threshold to >0.4 or >0.35 when we are rounding it off to 0 or 1 for a classification problem. "
   ]
  },
  {
   "cell_type": "code",
   "execution_count": 4,
   "metadata": {},
   "outputs": [],
   "source": [
    "train2.toxic = train2.toxic.apply(lambda x: 1 if x>0.4 else 0)\n",
    "valid = valid.drop(columns = ['comment_text', 'id', 'lang'])\n",
    "test = test.drop(columns = ['content', 'id', 'lang'])\n",
    "train = pd.concat([\n",
    "    train1[['comment_text', 'toxic']],\n",
    "    train2[['comment_text', 'toxic']]\n",
    "])\n"
   ]
  },
  {
   "cell_type": "code",
   "execution_count": 5,
   "metadata": {},
   "outputs": [
    {
     "data": {
      "text/plain": [
       "<matplotlib.axes._subplots.AxesSubplot at 0x7fe3129695d0>"
      ]
     },
     "execution_count": 5,
     "metadata": {},
     "output_type": "execute_result"
    },
    {
     "data": {
      "image/png": "[encoded data removed]",
      "text/plain": [
       "<Figure size 432x288 with 1 Axes>"
      ]
     },
     "metadata": {
      "needs_background": "light"
     },
     "output_type": "display_data"
    }
   ],
   "source": [
    "train.toxic.value_counts().plot(kind = 'bar')"
   ]
  },
  {
   "cell_type": "markdown",
   "execution_count": null,
   "metadata": {},
   "source": [
    "- We can observe from the plot above that there is a significant class imbalance between toxic and non toxic comments in our training dataset.\n"
   ]
  },
  {
   "cell_type": "markdown",
   "execution_count": null,
   "metadata": {},
   "source": [
    "## Undersampling:\n",
    "- since there is a significant difference between toxic and non-toxic comments, it makes sense to undersample our model to not be susceptible to any bias "
   ]
  },
  {
   "cell_type": "code",
   "execution_count": 6,
   "metadata": {},
   "outputs": [
    {
     "data": {
      "text/plain": [
       "<matplotlib.axes._subplots.AxesSubplot at 0x7fe313a4b890>"
      ]
     },
     "execution_count": 6,
     "metadata": {},
     "output_type": "execute_result"
    },
    {
     "data": {
      "image/png": "[encoded data removed]",
      "text/plain": [
       "<Figure size 432x288 with 1 Axes>"
      ]
     },
     "metadata": {
      "needs_background": "light"
     },
     "output_type": "display_data"
    }
   ],
   "source": [
    "from sklearn.utils import resample\n",
    "toxic = train[train.toxic ==1]\n",
    "not_toxic = train[train.toxic == 0]\n",
    "\n",
    "downsampled = resample(not_toxic,\n",
    "                       replace = False, # sample without replacement\n",
    "                       n_samples = len(toxic), # match minority n\n",
    "                       random_state = 10) # reproducible results\n",
    "train = pd.concat([downsampled, toxic])\n",
    "train.toxic.value_counts().plot(kind = 'bar')"
   ]
  },
  {
   "cell_type": "code",
   "execution_count": 7,
   "metadata": {},
   "outputs": [],
   "source": [
    "x_train = train['comment_text']\n",
    "x_valid = valid['content_en']\n",
    "x_test = test['content_en']\n",
    "y_train = train['toxic']\n",
    "y_valid = valid['toxic']"
   ]
  },
  {
   "cell_type": "code",
   "execution_count": 8,
   "metadata": {},
   "outputs": [
    {
     "name": "stderr",
     "output_type": "stream",
     "text": [
      "100%|██████████| 98300/98300 [01:01<00:00, 1608.59it/s]\n",
      "100%|██████████| 8000/8000 [00:04<00:00, 1762.23it/s]\n",
      "100%|██████████| 63812/63812 [00:36<00:00, 1748.89it/s]\n"
     ]
    }
   ],
   "source": [
    "# https://stackoverflow.com/a/47091490/4084039\n",
    "import re\n",
    "from bs4 import BeautifulSoup\n",
    "from tqdm import tqdm\n",
    "def decontracted(phrase):\n",
    "    # specific\n",
    "    phrase = re.sub(r\"won't\", \"will not\", phrase)\n",
    "    phrase = re.sub(r\"can\\'t\", \"can not\", phrase)\n",
    "\n",
    "    # general\n",
    "    phrase = re.sub(r\"n\\'t\", \" not\", phrase)\n",
    "    phrase = re.sub(r\"\\'re\", \" are\", phrase)\n",
    "    phrase = re.sub(r\"\\'s\", \" is\", phrase)\n",
    "    phrase = re.sub(r\"\\'d\", \" would\", phrase)\n",
    "    phrase = re.sub(r\"\\'ll\", \" will\", phrase)\n",
    "    phrase = re.sub(r\"\\'t\", \" not\", phrase)\n",
    "    phrase = re.sub(r\"\\'ve\", \" have\", phrase)\n",
    "    phrase = re.sub(r\"\\'m\", \" am\", phrase)\n",
    "    return phrase\n",
    "stopwords= set(['br', 'the', 'i', 'me', 'my', 'myself', 'we', 'our', 'ours', 'ourselves', 'you', \"you're\", \"you've\",\\\n",
    "            \"you'll\", \"you'd\", 'your', 'yours', 'yourself', 'yourselves', 'he', 'him', 'his', 'himself', \\\n",
    "            'she', \"she's\", 'her', 'hers', 'herself', 'it', \"it's\", 'its', 'itself', 'they', 'them', 'their',\\\n",
    "            'theirs', 'themselves', 'what', 'which', 'who', 'whom', 'this', 'that', \"that'll\", 'these', 'those', \\\n",
    "            'am', 'is', 'are', 'was', 'were', 'be', 'been', 'being', 'have', 'has', 'had', 'having', 'do', 'does', \\\n",
    "            'did', 'doing', 'a', 'an', 'the', 'and', 'but', 'if', 'or', 'because', 'as', 'until', 'while', 'of', \\\n",
    "            'at', 'by', 'for', 'with', 'about', 'against', 'between', 'into', 'through', 'during', 'before', 'after',\\\n",
    "            'above', 'below', 'to', 'from', 'up', 'down', 'in', 'out', 'on', 'off', 'over', 'under', 'again', 'further',\\\n",
    "            'then', 'once', 'here', 'there', 'when', 'where', 'why', 'how', 'all', 'any', 'both', 'each', 'few', 'more',\\\n",
    "            'most', 'other', 'some', 'such', 'only', 'own', 'same', 'so', 'than', 'too', 'very', \\\n",
    "            's', 't', 'can', 'will', 'just', 'don', \"don't\", 'should', \"should've\", 'now', 'd', 'll', 'm', 'o', 're', \\\n",
    "            've', 'y', 'ain', 'aren', \"aren't\", 'couldn', \"couldn't\", 'didn', \"didn't\", 'doesn', \"doesn't\", 'hadn',\\\n",
    "            \"hadn't\", 'hasn', \"hasn't\", 'haven', \"haven't\", 'isn', \"isn't\", 'ma', 'mightn', \"mightn't\", 'mustn',\\\n",
    "            \"mustn't\", 'needn', \"needn't\", 'shan', \"shan't\", 'shouldn', \"shouldn't\", 'wasn', \"wasn't\", 'weren', \"weren't\", \\\n",
    "            'won', \"won't\", 'wouldn', \"wouldn't\"])\n",
    "preprocessed_comments_train = []\n",
    "# tqdm is for printing the status bar\n",
    "for sentance in tqdm(x_train.values):\n",
    "    sentance = re.sub(r\"http\\S+\", \"\", sentance)\n",
    "    sentance = BeautifulSoup(sentance, 'lxml').get_text()\n",
    "    sentance = decontracted(sentance)\n",
    "    sentance = re.sub(\"\\S*\\d\\S*\", \"\", sentance).strip()\n",
    "    sentance = re.sub('[^A-Za-z]+', ' ', sentance)\n",
    "    # https://gist.github.com/sebleier/554280\n",
    "    sentance = ' '.join(e.lower() for e in sentance.split() if e.lower() not in stopwords)\n",
    "    preprocessed_comments_train.append(sentance.strip())\n",
    "\n",
    "preprocessed_comments_valid = []\n",
    "# tqdm is for printing the status bar\n",
    "for sentance in tqdm(x_valid.values):\n",
    "    sentance = re.sub(r\"http\\S+\", \"\", sentance)\n",
    "    sentance = BeautifulSoup(sentance, 'lxml').get_text()\n",
    "    sentance = decontracted(sentance)\n",
    "    sentance = re.sub(\"\\S*\\d\\S*\", \"\", sentance).strip()\n",
    "    sentance = re.sub('[^A-Za-z]+', ' ', sentance)\n",
    "    # https://gist.github.com/sebleier/554280\n",
    "    sentance = ' '.join(e.lower() for e in sentance.split() if e.lower() not in stopwords)\n",
    "    preprocessed_comments_valid.append(sentance.strip())\n",
    "\n",
    "preprocessed_comments_test = []\n",
    "# tqdm is for printing the status bar\n",
    "for sentance in tqdm(x_test.values):\n",
    "    sentance = re.sub(r\"http\\S+\", \"\", sentance)\n",
    "    sentance = BeautifulSoup(sentance, 'lxml').get_text()\n",
    "    sentance = decontracted(sentance)\n",
    "    sentance = re.sub(\"\\S*\\d\\S*\", \"\", sentance).strip()\n",
    "    sentance = re.sub('[^A-Za-z]+', ' ', sentance)\n",
    "    # https://gist.github.com/sebleier/554280\n",
    "    sentance = ' '.join(e.lower() for e in sentance.split() if e.lower() not in stopwords)\n",
    "    preprocessed_comments_test.append(sentance.strip())\n"
   ]
  },
  {
   "cell_type": "markdown",
   "execution_count": null,
   "metadata": {},
   "source": [
    "### BagOfWords :"
   ]
  },
  {
   "cell_type": "code",
   "execution_count": 9,
   "metadata": {},
   "outputs": [
    {
     "name": "stdout",
     "output_type": "stream",
     "text": [
      "Shape of matrix after one hot encodig  (98300, 16632)\n",
      "Shape of matrix after one hot encodig  (8000, 16632)\n",
      "Shape of matrix after one hot encodig  (63812, 16632)\n"
     ]
    }
   ],
   "source": [
    "# We are considering only the words which appeared in at least 10 comments .\n",
    "vectorizer = CountVectorizer(min_df=10)\n",
    "vectorizer.fit(preprocessed_comments_train)\n",
    "x_train_comments_bow = vectorizer.transform(preprocessed_comments_train)\n",
    "x_valid_comments_bow = vectorizer.transform(preprocessed_comments_valid)\n",
    "x_test_comments_bow = vectorizer.transform(preprocessed_comments_test)\n",
    "\n",
    "feature_names_comments_bow_one_hot = vectorizer.get_feature_names()\n",
    "print(\"Shape of matrix after one hot encodig \",x_train_comments_bow.shape)\n",
    "print(\"Shape of matrix after one hot encodig \",x_valid_comments_bow.shape)\n",
    "print(\"Shape of matrix after one hot encodig \",x_test_comments_bow.shape)"
   ]
  },
  {
   "cell_type": "markdown",
   "execution_count": null,
   "metadata": {},
   "source": [
    "### TFIDF :"
   ]
  },
  {
   "cell_type": "code",
   "execution_count": 10,
   "metadata": {},
   "outputs": [
    {
     "name": "stdout",
     "output_type": "stream",
     "text": [
      "Shape of matrix after one hot encodig  (98300, 3035)\n",
      "Shape of matrix after one hot encodig  (8000, 3035)\n",
      "Shape of matrix after one hot encodig  (63812, 3035)\n",
      "CPU times: user 9.02 s, sys: 12.6 ms, total: 9.03 s\n",
      "Wall time: 9.03 s\n"
     ]
    }
   ],
   "source": [
    "%%time\n",
    "from sklearn.feature_extraction.text import TfidfVectorizer\n",
    "vectorizer = TfidfVectorizer(min_df=10)\n",
    "vectorizer.fit_transform(preprocessed_comments_valid)\n",
    "x_train_tfidf_comment = vectorizer.transform(preprocessed_comments_train)\n",
    "x_valid_tfidf_comment = vectorizer.transform(preprocessed_comments_valid)\n",
    "x_test_tfidf_comment = vectorizer.transform(preprocessed_comments_test)\n",
    "feature_names_tfidf_comment = vectorizer.get_feature_names()\n",
    "print(\"Shape of matrix after one hot encodig \",x_train_tfidf_comment.shape)\n",
    "print(\"Shape of matrix after one hot encodig \",x_valid_tfidf_comment.shape)\n",
    "print(\"Shape of matrix after one hot encodig \",x_test_tfidf_comment.shape)"
   ]
  },
  {
   "cell_type": "markdown",
   "execution_count": null,
   "metadata": {},
   "source": [
    "### Training the w2v Model with X_train"
   ]
  },
  {
   "cell_type": "code",
   "execution_count": 11,
   "metadata": {},
   "outputs": [
    {
     "name": "stderr",
     "output_type": "stream",
     "text": [
      "100%|██████████| 98300/98300 [00:25<00:00, 3800.45it/s]\n"
     ]
    }
   ],
   "source": [
    "def cleanPunctuation(sentence):                   #https://stackoverflow.com/questions/13237533/find-different-realization-of-a-word-in-a-sentence-string-python   \n",
    "    exclude = set(string.punctuation)\n",
    "    return ''.join(ch for ch in sentence if ch not in exclude)\n",
    "\n",
    "from bs4 import BeautifulSoup\n",
    "i = 0 \n",
    "list_of_sent = []\n",
    "for sent1 in tqdm(preprocessed_comments_train):\n",
    "    filtered_sent = []\n",
    "    soup = BeautifulSoup(sent1, 'html.parser')\n",
    "#     soup_packtpage = BeautifulSoup(sent,\"html.parser\")\n",
    "    sentt = soup.get_text()\n",
    "    for w in sentt.split():\n",
    "        for clean_words in cleanPunctuation(w).split():\n",
    "            filtered_sent.append(clean_words.lower())\n",
    "        else:\n",
    "            continue\n",
    "    list_of_sent.append(filtered_sent)"
   ]
  },
  {
   "cell_type": "code",
   "execution_count": 12,
   "metadata": {},
   "outputs": [
    {
     "name": "stdout",
     "output_type": "stream",
     "text": [
      "CPU times: user 8.83 s, sys: 83.1 ms, total: 8.91 s\n",
      "Wall time: 8.9 s\n"
     ]
    }
   ],
   "source": [
    "%%time\n",
    "import gensim\n",
    "w2v_model = gensim.models.Word2Vec(list_of_sent, min_count=10,size=50,workers=-1)"
   ]
  },
  {
   "cell_type": "markdown",
   "execution_count": null,
   "metadata": {},
   "source": [
    "### Average w2v on comments :"
   ]
  },
  {
   "cell_type": "code",
   "execution_count": 13,
   "metadata": {},
   "outputs": [
    {
     "name": "stderr",
     "output_type": "stream",
     "text": [
      "100%|██████████| 98300/98300 [00:20<00:00, 4862.14it/s]"
     ]
    },
    {
     "name": "stdout",
     "output_type": "stream",
     "text": [
      "98300\n",
      "50\n"
     ]
    },
    {
     "name": "stderr",
     "output_type": "stream",
     "text": [
      "\n"
     ]
    }
   ],
   "source": [
    "x_train_avg_w2v_vectors_essay = []; # the avg-w2v for each sentence/comment is stored in this list\n",
    "glove_words = set(w2v_model.wv.vocab)\n",
    "for sentence in tqdm(preprocessed_comments_train): # for each comment/sentence\n",
    "    vector = np.zeros(50) # as word vectors are of zero length\n",
    "    cnt_words =0; # num of wordswith a valid vector in the sentence/comment  \n",
    "    for word in sentence.split(): # for each word in a comment \n",
    "        if word in glove_words:\n",
    "            vector += w2v_model.wv[word]\n",
    "            cnt_words += 1\n",
    "        else:\n",
    "            pass\n",
    "    if cnt_words != 0:\n",
    "        vector /= cnt_words\n",
    "    x_train_avg_w2v_vectors_essay.append(vector)\n",
    "\n",
    "print(len(x_train_avg_w2v_vectors_essay))\n",
    "print(len(x_train_avg_w2v_vectors_essay[0]))"
   ]
  },
  {
   "cell_type": "code",
   "execution_count": 14,
   "metadata": {},
   "outputs": [
    {
     "name": "stderr",
     "output_type": "stream",
     "text": [
      "100%|██████████| 8000/8000 [00:01<00:00, 5071.59it/s]"
     ]
    },
    {
     "name": "stdout",
     "output_type": "stream",
     "text": [
      "8000\n",
      "50\n"
     ]
    },
    {
     "name": "stderr",
     "output_type": "stream",
     "text": [
      "\n"
     ]
    }
   ],
   "source": [
    "x_valid_avg_w2v_vectors_essay = []; # the avg-w2v for each sentence/comment is stored in this list\n",
    "glove_words = set(w2v_model.wv.vocab)\n",
    "for sentence in tqdm(preprocessed_comments_valid): # for each comment/sentence\n",
    "    vector = np.zeros(50) # as word vectors are of zero length\n",
    "    cnt_words =0; # num of wordswith a valid vector in the sentence/comment  \n",
    "    for word in sentence.split(): # for each word in a comment \n",
    "        if word in glove_words:\n",
    "            vector += w2v_model.wv[word]\n",
    "            cnt_words += 1\n",
    "        else:\n",
    "            pass\n",
    "    if cnt_words != 0:\n",
    "        vector /= cnt_words\n",
    "    x_valid_avg_w2v_vectors_essay.append(vector)\n",
    "\n",
    "print(len(x_valid_avg_w2v_vectors_essay))\n",
    "print(len(x_valid_avg_w2v_vectors_essay[0]))"
   ]
  },
  {
   "cell_type": "code",
   "execution_count": 15,
   "metadata": {},
   "outputs": [
    {
     "name": "stderr",
     "output_type": "stream",
     "text": [
      "100%|██████████| 63812/63812 [00:13<00:00, 4587.15it/s]"
     ]
    },
    {
     "name": "stdout",
     "output_type": "stream",
     "text": [
      "63812\n",
      "50\n"
     ]
    },
    {
     "name": "stderr",
     "output_type": "stream",
     "text": [
      "\n"
     ]
    }
   ],
   "source": [
    "x_test_avg_w2v_vectors_essay = []; # the avg-w2v for each sentence/comment is stored in this list\n",
    "glove_words = set(w2v_model.wv.vocab)\n",
    "for sentence in tqdm(preprocessed_comments_test): # for each comment/sentence\n",
    "    vector = np.zeros(50) # as word vectors are of zero length\n",
    "    cnt_words =0; # num of wordswith a test vector in the sentence/comment  \n",
    "    for word in sentence.split(): # for each word in a comment \n",
    "        if word in glove_words:\n",
    "            vector += w2v_model.wv[word]\n",
    "            cnt_words += 1\n",
    "        else:\n",
    "            pass\n",
    "    if cnt_words != 0:\n",
    "        vector /= cnt_words\n",
    "    x_test_avg_w2v_vectors_essay.append(vector)\n",
    "\n",
    "print(len(x_test_avg_w2v_vectors_essay))\n",
    "print(len(x_test_avg_w2v_vectors_essay[0]))"
   ]
  },
  {
   "cell_type": "markdown",
   "execution_count": null,
   "metadata": {},
   "source": [
    "## Stacking up feature Vectors:"
   ]
  },
  {
   "cell_type": "code",
   "execution_count": 16,
   "metadata": {},
   "outputs": [],
   "source": [
    "# from numpy import hstack \n",
    "from scipy.sparse import hstack\n",
    "\n",
    "x_train_stack = hstack([\n",
    "    x_train_comments_bow, \n",
    "    x_train_tfidf_comment, \n",
    "    x_train_avg_w2v_vectors_essay\n",
    "])\n",
    "\n",
    "\n",
    "x_valid_stack = hstack([\n",
    "    x_valid_comments_bow, \n",
    "    x_valid_tfidf_comment, \n",
    "    x_valid_avg_w2v_vectors_essay\n",
    "])\n",
    "\n",
    "\n",
    "x_test_stack = hstack([\n",
    "    x_test_comments_bow, \n",
    "    x_test_tfidf_comment, \n",
    "    x_test_avg_w2v_vectors_essay\n",
    "])\n"
   ]
  },
  {
   "cell_type": "markdown",
   "execution_count": null,
   "metadata": {},
   "source": [
    "# Applying Logistic Regression:"
   ]
  },
  {
   "cell_type": "code",
   "execution_count": 17,
   "metadata": {},
   "outputs": [],
   "source": [
    "# https://stackoverflow.com/a/44149119\n",
    "from sklearn.metrics import confusion_matrix, accuracy_score, roc_auc_score, roc_curve\n",
    "import matplotlib.pyplot as plt\n",
    "import seaborn as sns\n",
    "import numpy as np\n",
    "\n",
    "def ROC_CM(y_train_true, y_train_prob, y_test_true, y_test_prob):\n",
    "    '''\n",
    "    a funciton to plot the ROC curve for train labels and test labels.\n",
    "    Use the best threshold found in train set to classify items in test set.\n",
    "    '''\n",
    "    fpr_train, tpr_train, thresholds_train = roc_curve(y_train_true, y_train_prob, pos_label =True)\n",
    "    sum_sensitivity_specificity_train = tpr_train + (1-fpr_train)\n",
    "    best_threshold_id_train = np.argmax(sum_sensitivity_specificity_train)\n",
    "    best_threshold = thresholds_train[best_threshold_id_train]\n",
    "    best_fpr_train = fpr_train[best_threshold_id_train]\n",
    "    best_tpr_train = tpr_train[best_threshold_id_train]\n",
    "    y_train = y_train_prob > best_threshold\n",
    "\n",
    "    cm_train = confusion_matrix(y_train_true, y_train)\n",
    "    acc_train = accuracy_score(y_train_true, y_train)\n",
    "    auc_train = roc_auc_score(y_train_true, y_train)\n",
    "\n",
    "    print('Train Accuracy: %s ' %acc_train)\n",
    "    print('Train AUC: %s ' %auc_train)\n",
    "#     print('Train Confusion Matrix:')\n",
    "#     print(cm_train)\n",
    "\n",
    "    fig = plt.figure(figsize=(15,13))\n",
    "    ax = fig.add_subplot(221)\n",
    "    curve1 = ax.plot(fpr_train, tpr_train)\n",
    "    curve2 = ax.plot([0, 1], [0, 1], color='navy', linestyle='--')\n",
    "    dot = ax.plot(best_fpr_train, best_tpr_train, marker='o', color='black')\n",
    "    ax.text(best_fpr_train, best_tpr_train, s = '(%.3f,%.3f)' %(best_fpr_train, best_tpr_train))\n",
    "    plt.xlim([0.0, 1.0])\n",
    "    plt.ylim([0.0, 1.0])\n",
    "    plt.xlabel('False Positive Rate')\n",
    "    plt.ylabel('True Positive Rate')\n",
    "    plt.title('ROC curve (Train), AUC = %.4f'%auc_train)\n",
    "\n",
    "    fpr_test, tpr_test, thresholds_test = roc_curve(y_test_true, y_test_prob, pos_label =True)\n",
    "\n",
    "    y_test = y_test_prob > best_threshold\n",
    "\n",
    "    cm_test = confusion_matrix(y_test_true, y_test)\n",
    "    acc_test = accuracy_score(y_test_true, y_test)\n",
    "    auc_test = roc_auc_score(y_test_true, y_test)\n",
    "\n",
    "    print('Test Accuracy: %s ' %acc_test)\n",
    "    print('Test AUC: %s ' %auc_test)\n",
    "#     print('Test Confusion Matrix:')\n",
    "#     print(cm_test)\n",
    "\n",
    "    tpr_score = float(cm_test[1][1])/(cm_test[1][1] + cm_test[1][0])\n",
    "    fpr_score = float(cm_test[0][1])/(cm_test[0][0]+ cm_test[0][1])\n",
    "\n",
    "    ax2 = fig.add_subplot(222)\n",
    "    curve1 = ax2.plot(fpr_test, tpr_test)\n",
    "    curve2 = ax2.plot([0, 1], [0, 1], color='navy', linestyle='--')\n",
    "    dot = ax2.plot(fpr_score, tpr_score, marker='o', color='black')\n",
    "    ax2.text(fpr_score, tpr_score, s = '(%.3f,%.3f)' %(fpr_score, tpr_score))\n",
    "    plt.xlim([0.0, 1.0])\n",
    "    plt.ylim([0.0, 1.0])\n",
    "    plt.xlabel('False Positive Rate')\n",
    "    plt.ylabel('True Positive Rate')\n",
    "    plt.title('ROC curve (Test), AUC = %.4f'%auc_test)\n",
    "    plt.savefig('ROC', dpi = 500)\n",
    "\n",
    "    df_cm_train = pd.DataFrame(cm_train, index = [i for i in [\"True Positive\",\"False Positive\"]],\n",
    "                         columns = [i for i in [\"False Negative\", \"True Negative\"]])\n",
    "    ax3 = fig.add_subplot(223)\n",
    "    plt.title(\"Train Confusion Matrix\")\n",
    "    sns.heatmap(df_cm_train, annot=True,fmt=\"d\")\n",
    "    df_cm_test = pd.DataFrame(cm_test, index = [i for i in [\"True Positive\",\"False Positive\"]],\n",
    "                         columns = [i for i in [\"False Negative\", \"True Negative\"]])\n",
    "    ax3 = fig.add_subplot(224)\n",
    "    \n",
    "    plt.title(\"Test Confusion Matrix\")\n",
    "    sns.heatmap(df_cm_test, annot=True,fmt=\"d\")\n",
    "    \n",
    "    plt.show()\n",
    "    \n",
    "    return best_threshold\n",
    "# ROC_CM(Y_train, Y_train_pred, Y_test, Y_test_pred)"
   ]
  },
  {
   "cell_type": "code",
   "execution_count": 18,
   "metadata": {},
   "outputs": [
    {
     "data": {
      "image/png": "[encoded data removed]",
      "text/plain": [
       "<Figure size 432x288 with 1 Axes>"
      ]
     },
     "metadata": {
      "needs_background": "light"
     },
     "output_type": "display_data"
    }
   ],
   "source": [
    "# https://scikit-learn.org/stable/modules/generated/sklearn.model_selection.GridSearchCV.html\n",
    "from sklearn.model_selection import GridSearchCV\n",
    "from sklearn.linear_model import SGDClassifier\n",
    "\n",
    "\n",
    "classifier = SGDClassifier(loss = 'log',class_weight='balanced')\n",
    "parameters = {'alpha':[0.001,0.005, 0.01, 0.015, 0.020, 0.025, .030, 0.035, 0.040]} \n",
    "clf = GridSearchCV(classifier, \n",
    "                   parameters, \n",
    "                   cv=3, \n",
    "                   scoring='roc_auc',\n",
    "                   return_train_score=True)\n",
    "clf.fit(x_train_stack, y_train)\n",
    "\n",
    "train_auc= clf.cv_results_['mean_train_score']\n",
    "train_auc_std= clf.cv_results_['std_train_score']\n",
    "cv_auc = clf.cv_results_['mean_test_score'] \n",
    "cv_auc_std= clf.cv_results_['std_test_score']\n",
    "\n",
    "plt.plot(parameters['alpha'], train_auc, label='Train AUC')\n",
    "# this code is copied from here: https://stackoverflow.com/a/48803361/4084039\n",
    "plt.gca().fill_between(parameters['alpha'],train_auc - train_auc_std,train_auc + train_auc_std,alpha=0.2,color='darkblue')\n",
    "\n",
    "plt.plot(parameters['alpha'], cv_auc, label='CV AUC')\n",
    "# this code is copied from here: https://stackoverflow.com/a/48803361/4084039\n",
    "plt.gca().fill_between(parameters['alpha'],cv_auc - cv_auc_std,cv_auc + cv_auc_std,alpha=0.2,color='darkorange')\n",
    "\n",
    "plt.scatter(parameters['alpha'], train_auc, label='Train AUC points')\n",
    "plt.scatter(parameters['alpha'], cv_auc, label='CV AUC points')\n",
    "\n",
    "\n",
    "plt.legend()\n",
    "plt.xlabel(\"log(Alpha): hyperparameter\")\n",
    "plt.ylabel(\"AUC\")\n",
    "plt.title(\"ERROR PLOTS\")\n",
    "plt.grid()\n",
    "plt.show()"
   ]
  },
  {
   "cell_type": "code",
   "execution_count": 19,
   "metadata": {},
   "outputs": [
    {
     "data": {
      "image/png": "[encoded data removed]",
      "text/plain": [
       "<Figure size 432x288 with 1 Axes>"
      ]
     },
     "metadata": {
      "needs_background": "light"
     },
     "output_type": "display_data"
    }
   ],
   "source": [
    "best_alpha = clf.best_params_['alpha']\n",
    "# https://scikit-learn.org/stable/modules/generated/sklearn.metrics.roc_curve.html#sklearn.metrics.roc_curve\n",
    "from sklearn.metrics import roc_curve, auc\n",
    "\n",
    "LR = SGDClassifier(loss = 'log',alpha = best_alpha)\n",
    "\n",
    "LR.fit(x_train_stack, y_train)\n",
    "# roc_auc_score(Y_true, Y_score) the 2nd parameter should be probability estimates of the positive class\n",
    "# not the predicted outputs\n",
    "\n",
    "# Y_train_pred = batch_predict(LR, x_train_stack)    \n",
    "# Y_test_pred = batch_predict(LR, x_cv_stack)\n",
    "\n",
    "Y_train_pred = LR.predict_proba(x_train_stack)    \n",
    "Y_valid_pred = LR.predict_proba(x_valid_stack)\n",
    "\n",
    "train_fpr, train_tpr, tr_thresholds = roc_curve(y_train, Y_train_pred[:,1])\n",
    "test_fpr, test_tpr, te_thresholds = roc_curve(y_valid, Y_valid_pred[:,1])\n",
    "\n",
    "plt.plot(train_fpr, train_tpr, label=\"Train AUC =\"+str(auc(train_fpr, train_tpr)))\n",
    "plt.plot(test_fpr, test_tpr, label=\"Test AUC =\"+str(auc(test_fpr, test_tpr)))\n",
    "plt.legend()\n",
    "plt.xlabel(\"True Positive Rate(TPR)\")\n",
    "plt.ylabel(\"False Positive Rate(FPR)\")\n",
    "plt.title(\"AUC\")\n",
    "plt.grid()\n",
    "plt.show()\n",
    "\n"
   ]
  },
  {
   "cell_type": "code",
   "execution_count": 20,
   "metadata": {},
   "outputs": [
    {
     "name": "stdout",
     "output_type": "stream",
     "text": [
      "Train Accuracy: 0.8596948118006104 \n",
      "Train AUC: 0.8596948118006104 \n",
      "Test Accuracy: 0.85125 \n",
      "Test AUC: 0.7640835344837938 \n"
     ]
    },
    {
     "data": {
      "image/png": "[encoded data removed]",
      "text/plain": [
       "<Figure size 1080x936 with 6 Axes>"
      ]
     },
     "metadata": {
      "needs_background": "light"
     },
     "output_type": "display_data"
    },
    {
     "data": {
      "text/plain": [
       "0.4704150683184623"
      ]
     },
     "execution_count": 20,
     "metadata": {},
     "output_type": "execute_result"
    }
   ],
   "source": [
    "ROC_CM(y_train, Y_train_pred[:,1],y_valid, Y_valid_pred[:,1])"
   ]
  },
  {
   "cell_type": "markdown",
   "execution_count": null,
   "metadata": {},
   "source": [
    "- As we can see that a simple linear regression model with very miniscule hyperparamater tuning results in significantly satisfactory results. "
   ]
  },
  {
   "cell_type": "code",
   "execution_count": 21,
   "metadata": {},
   "outputs": [],
   "source": [
    "submission_predictions = LR.predict_proba(x_test_stack)\n",
    "sub['toxic'] = submission_predictions[:,1]\n",
    "sub.to_csv('submission.csv', index=False)\n"
   ]
  },
  {
   "cell_type": "code",
   "execution_count": null,
   "metadata": {},
   "outputs": [],
   "source": []
  }
 ],
 "metadata": {
  "kernelspec": {
   "display_name": "Python 3",
   "language": "python",
   "name": "python3"
  },
  "language_info": {
   "codemirror_mode": {
    "name": "ipython",
    "version": 3
   },
   "file_extension": ".py",
   "mimetype": "text/x-python",
   "name": "python",
   "nbconvert_exporter": "python",
   "pygments_lexer": "ipython3",
   "version": "3.7.6"
  }
 },
 "nbformat": 4,
 "nbformat_minor": 4
}
