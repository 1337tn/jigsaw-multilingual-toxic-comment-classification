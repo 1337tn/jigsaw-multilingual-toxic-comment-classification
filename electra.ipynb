{
  "nbformat": 4,
  "nbformat_minor": 0,
  "metadata": {
    "kernelspec": {
      "display_name": "Python 3",
      "language": "python",
      "name": "python3"
    },
    "language_info": {
      "codemirror_mode": {
        "name": "ipython",
        "version": 3
      },
      "file_extension": ".py",
      "mimetype": "text/x-python",
      "name": "python",
      "nbconvert_exporter": "python",
      "pygments_lexer": "ipython3",
      "version": "3.7.6"
    },
    "colab": {
      "name": "electra.ipynb",
      "provenance": [],
      "collapsed_sections": []
    }
  },
  "cells": [
    {
      "cell_type": "code",
      "metadata": {
        "id": "vv82KVslFeKI",
        "colab_type": "code",
        "outputId": "6571a99f-9a94-4557-92a0-153edba0b14a",
        "colab": {}
      },
      "source": [
        "import os\n",
        "import numpy as np\n",
        "import pandas as pd\n",
        "import tensorflow as tf\n",
        "from tensorflow.keras.layers import Dense, Input\n",
        "from tensorflow.keras.optimizers import Adam\n",
        "from tensorflow.keras.models import Model\n",
        "from tensorflow.keras.callbacks import ModelCheckpoint\n",
        "from kaggle_datasets import KaggleDatasets\n",
        "import transformers\n",
        "from tqdm import tqdm\n",
        "\n",
        "from tokenizers import BertWordPieceTokenizer"
      ],
      "execution_count": 0,
      "outputs": [
        {
          "output_type": "stream",
          "text": [
            "\u001b[34m\u001b[1mwandb\u001b[0m: \u001b[33mWARNING\u001b[0m W&B installed but not logged in.  Run `wandb login` or set the WANDB_API_KEY env variable.\n"
          ],
          "name": "stderr"
        }
      ]
    },
    {
      "cell_type": "markdown",
      "metadata": {
        "id": "YwKjQCu_IZEq",
        "colab_type": "text"
      },
      "source": [
        "# Настройка TPU"
      ]
    },
    {
      "cell_type": "code",
      "metadata": {
        "id": "HZmLoosyFeKS",
        "colab_type": "code",
        "outputId": "37eadcc5-37fc-41b5-e082-3597ec9e6843",
        "colab": {}
      },
      "source": [
        "try:\n",
        "    tpu = tf.distribute.cluster_resolver.TPUClusterResolver()\n",
        "    print('Running on TPU ', tpu.master())\n",
        "except ValueError:\n",
        "    tpu = None\n",
        "\n",
        "if tpu:\n",
        "    tf.config.experimental_connect_to_cluster(tpu)\n",
        "    tf.tpu.experimental.initialize_tpu_system(tpu)\n",
        "    strategy = tf.distribute.experimental.TPUStrategy(tpu)\n",
        "else:\n",
        "    strategy = tf.distribute.get_strategy()\n",
        "\n",
        "print(\"REPLICAS: \", strategy.num_replicas_in_sync)"
      ],
      "execution_count": 0,
      "outputs": [
        {
          "output_type": "stream",
          "text": [
            "Running on TPU  grpc://10.0.0.2:8470\n",
            "REPLICAS:  8\n"
          ],
          "name": "stdout"
        }
      ]
    },
    {
      "cell_type": "markdown",
      "metadata": {
        "id": "kU9cn50AIdcl",
        "colab_type": "text"
      },
      "source": [
        "# Загрузка данных"
      ]
    },
    {
      "cell_type": "code",
      "metadata": {
        "id": "fQq14j1JFeKW",
        "colab_type": "code",
        "colab": {}
      },
      "source": [
        "train = pd.read_csv(\"/kaggle/input/jigsaw-multilingual-toxic-comment-classification/jigsaw-toxic-comment-train.csv\")\n",
        "test = pd.read_csv('/kaggle/input/jigsaw-multilingual-toxic-comment-classification/test.csv')\n",
        "valid = pd.read_csv('/kaggle/input/jigsaw-multilingual-toxic-comment-classification/validation.csv')\n",
        "sub = pd.read_csv('/kaggle/input/jigsaw-multilingual-toxic-comment-classification/sample_submission.csv')"
      ],
      "execution_count": 0,
      "outputs": []
    },
    {
      "cell_type": "markdown",
      "metadata": {
        "id": "_tARDLGVIgX3",
        "colab_type": "text"
      },
      "source": [
        "# Tokenizer для BERT"
      ]
    },
    {
      "cell_type": "code",
      "metadata": {
        "id": "_-xJor2mzC73",
        "colab_type": "code",
        "outputId": "83bc869f-ec65-4854-a9cf-b10b3546368c",
        "colab": {
          "referenced_widgets": [
            "7e55bfa3d5bd45e396e285a25baed74d"
          ]
        }
      },
      "source": [
        "tokenizer = transformers.DistilBertTokenizer.from_pretrained('distilbert-base-multilingual-cased')\n",
        "tokenizer.save_pretrained('.')\n",
        "fast_tokenizer = BertWordPieceTokenizer('vocab.txt', lowercase=False)\n",
        "fast_tokenizer"
      ],
      "execution_count": 0,
      "outputs": [
        {
          "output_type": "display_data",
          "data": {
            "application/vnd.jupyter.widget-view+json": {
              "model_id": "7e55bfa3d5bd45e396e285a25baed74d",
              "version_major": 2,
              "version_minor": 0
            },
            "text/plain": [
              "HBox(children=(FloatProgress(value=0.0, description='Downloading', max=995526.0, style=ProgressStyle(descripti…"
            ]
          },
          "metadata": {
            "tags": []
          }
        },
        {
          "output_type": "stream",
          "text": [
            "\n"
          ],
          "name": "stdout"
        },
        {
          "output_type": "execute_result",
          "data": {
            "text/plain": [
              "Tokenizer(vocabulary_size=119547, model=BertWordPiece, unk_token=[UNK], sep_token=[SEP], cls_token=[CLS], pad_token=[PAD], mask_token=[MASK], clean_text=True, handle_chinese_chars=True, strip_accents=True, lowercase=False, wordpieces_prefix=##)"
            ]
          },
          "metadata": {
            "tags": []
          },
          "execution_count": 6
        }
      ]
    },
    {
      "cell_type": "markdown",
      "metadata": {
        "id": "fvaP_LO4InJ1",
        "colab_type": "text"
      },
      "source": [
        "# Fast Encoder для BERT"
      ]
    },
    {
      "cell_type": "code",
      "metadata": {
        "id": "v_C2agOxHO-O",
        "colab_type": "code",
        "colab": {}
      },
      "source": [
        "def fast_encode(texts, tokenizer, chunk_size=256, maxlen=512):\n",
        "    tokenizer.enable_truncation(max_length=maxlen)\n",
        "    tokenizer.enable_padding(max_length=maxlen)\n",
        "    all_ids = []\n",
        "    for i in tqdm(range(0, len(texts), chunk_size)):\n",
        "        text_chunk = texts[i:i+chunk_size].tolist()\n",
        "        encoded_chunks = tokenizer.encode_batch(text_chunk)\n",
        "        all_ids.extend([encoded_chunk.ids for encoded_chunk in encoded_chunks])\n",
        "    return np.array(all_ids)"
      ],
      "execution_count": 0,
      "outputs": []
    },
    {
      "cell_type": "markdown",
      "metadata": {
        "id": "6Hi5jfCsIqLf",
        "colab_type": "text"
      },
      "source": [
        "# Предобработка и кодирование исходных данных"
      ]
    },
    {
      "cell_type": "code",
      "metadata": {
        "id": "XEjuwZmsFeKj",
        "colab_type": "code",
        "outputId": "4fabcac9-4d26-44f2-b777-4d862a3e7a1e",
        "colab": {}
      },
      "source": [
        "MAX_LEN = 192\n",
        "BATCH_SIZE = 16 * strategy.num_replicas_in_sync\n",
        "\n",
        "x_train = fast_encode(train.comment_text.astype(str), fast_tokenizer, maxlen=MAX_LEN)\n",
        "x_valid = fast_encode(valid.comment_text.astype(str), fast_tokenizer, maxlen=MAX_LEN)\n",
        "x_test = fast_encode(test.content.astype(str), fast_tokenizer, maxlen=MAX_LEN)\n",
        "y_train = train.toxic.values\n",
        "y_valid = valid.toxic.values"
      ],
      "execution_count": 0,
      "outputs": [
        {
          "output_type": "stream",
          "text": [
            "100%|██████████| 874/874 [00:28<00:00, 30.53it/s]\n",
            "100%|██████████| 32/32 [00:01<00:00, 28.16it/s]\n",
            "100%|██████████| 250/250 [00:11<00:00, 22.50it/s]\n"
          ],
          "name": "stderr"
        }
      ]
    },
    {
      "cell_type": "code",
      "metadata": {
        "id": "LzHuoBt4FeKm",
        "colab_type": "code",
        "colab": {}
      },
      "source": [
        "train_dataset = tf.data.Dataset.from_tensor_slices((x_train, y_train)).repeat().shuffle(2048).batch(BATCH_SIZE).prefetch(AUTO)\n",
        "valid_dataset = tf.data.Dataset.from_tensor_slices((x_valid, y_valid)).batch(BATCH_SIZE).cache().prefetch(AUTO)\n",
        "test_dataset = tf.data.Dataset.from_tensor_slices(x_test).batch(BATCH_SIZE)"
      ],
      "execution_count": 0,
      "outputs": []
    },
    {
      "cell_type": "markdown",
      "metadata": {
        "id": "9Izikw8FIts4",
        "colab_type": "text"
      },
      "source": [
        "# Training"
      ]
    },
    {
      "cell_type": "code",
      "metadata": {
        "id": "L9ldMIdAFeKo",
        "colab_type": "code",
        "colab": {}
      },
      "source": [
        "def build_model(transformer, max_len=512):\n",
        "    input_ids = Input(shape=(max_len,), dtype=tf.int32, name=\"input_ids\")\n",
        "    sequence_output = transformer(input_ids)[0]\n",
        "    cls_token = sequence_output[:, 0, :]\n",
        "    out = Dense(1, activation='relu')(cls_token)\n",
        "    model = Model(inputs=input_ids, outputs=out)\n",
        "    model.compile(Adam(lr=1e-5), loss='binary_crossentropy', metrics=['accuracy'])\n",
        "    return model"
      ],
      "execution_count": 0,
      "outputs": []
    },
    {
      "cell_type": "code",
      "metadata": {
        "id": "qsOCShyzFeKr",
        "colab_type": "code",
        "outputId": "6919ccd4-60d8-483e-991c-e87bb5265b2d",
        "colab": {
          "referenced_widgets": [
            "7cb03c8f9fec49d79de7111c91f4cc9a",
            "e1e4a53df98542f1ad47900ad3bcc453"
          ]
        }
      },
      "source": [
        "%%time\n",
        "with strategy.scope():\n",
        "    transformer_layer = transformers.TFElectraModel.from_pretrained('google/electra-small-discriminator')\n",
        "    model = build_model(transformer_layer, max_len=MAX_LEN)\n",
        "model.summary()"
      ],
      "execution_count": 0,
      "outputs": [
        {
          "output_type": "display_data",
          "data": {
            "application/vnd.jupyter.widget-view+json": {
              "model_id": "7cb03c8f9fec49d79de7111c91f4cc9a",
              "version_major": 2,
              "version_minor": 0
            },
            "text/plain": [
              "HBox(children=(FloatProgress(value=0.0, description='Downloading', max=466.0, style=ProgressStyle(description_…"
            ]
          },
          "metadata": {
            "tags": []
          }
        },
        {
          "output_type": "stream",
          "text": [
            "\n"
          ],
          "name": "stdout"
        },
        {
          "output_type": "display_data",
          "data": {
            "application/vnd.jupyter.widget-view+json": {
              "model_id": "e1e4a53df98542f1ad47900ad3bcc453",
              "version_major": 2,
              "version_minor": 0
            },
            "text/plain": [
              "HBox(children=(FloatProgress(value=0.0, description='Downloading', max=54466044.0, style=ProgressStyle(descrip…"
            ]
          },
          "metadata": {
            "tags": []
          }
        },
        {
          "output_type": "stream",
          "text": [
            "\n",
            "Model: \"model\"\n",
            "_________________________________________________________________\n",
            "Layer (type)                 Output Shape              Param #   \n",
            "=================================================================\n",
            "input_word_ids (InputLayer)  [(None, 192)]             0         \n",
            "_________________________________________________________________\n",
            "tf_electra_model (TFElectraM ((None, 192, 256),)       13483008  \n",
            "_________________________________________________________________\n",
            "tf_op_layer_strided_slice (T [(None, 256)]             0         \n",
            "_________________________________________________________________\n",
            "dense (Dense)                (None, 1)                 257       \n",
            "=================================================================\n",
            "Total params: 13,483,265\n",
            "Trainable params: 13,483,265\n",
            "Non-trainable params: 0\n",
            "_________________________________________________________________\n",
            "CPU times: user 13.3 s, sys: 2.22 s, total: 15.5 s\n",
            "Wall time: 16.7 s\n"
          ],
          "name": "stdout"
        }
      ]
    },
    {
      "cell_type": "code",
      "metadata": {
        "id": "gAIeQ-iKFeKt",
        "colab_type": "code",
        "outputId": "4e72fa19-ca07-4938-bbff-747d31eeaa91",
        "colab": {}
      },
      "source": [
        "n_steps = x_train.shape[0] // BATCH_SIZE\n",
        "train_history = model.fit(train_dataset, steps_per_epoch=n_steps, validation_data=valid_dataset, epochs=3)"
      ],
      "execution_count": 0,
      "outputs": [
        {
          "output_type": "stream",
          "text": [
            "Epoch 1/3\n",
            "1746/1746 [==============================] - 131s 75ms/step - accuracy: 0.9373 - loss: 0.1656 - val_accuracy: 0.8485 - val_loss: 0.6910\n",
            "Epoch 2/3\n",
            "1746/1746 [==============================] - 116s 66ms/step - accuracy: 0.9516 - loss: 0.1206 - val_accuracy: 0.8486 - val_loss: 0.7379\n",
            "Epoch 3/3\n",
            "1519/1746 [=========================>....] - ETA: 14s - accuracy: 0.9563 - loss: 0.1097"
          ],
          "name": "stdout"
        }
      ]
    },
    {
      "cell_type": "code",
      "metadata": {
        "id": "7ygNvriCFeKw",
        "colab_type": "code",
        "outputId": "1a4424c8-013f-4fe4-b0ab-d98ad572abf4",
        "colab": {}
      },
      "source": [
        "n_steps = x_valid.shape[0] // BATCH_SIZE\n",
        "train_history_2 = model.fit(valid_dataset.repeat(), steps_per_epoch=n_steps, epochs=6)"
      ],
      "execution_count": 0,
      "outputs": [
        {
          "output_type": "stream",
          "text": [
            "Epoch 1/6\n",
            "62/62 [==============================] - 4s 64ms/step - accuracy: 0.8439 - loss: 0.4244\n",
            "Epoch 2/6\n",
            "62/62 [==============================] - 4s 63ms/step - accuracy: 0.8500 - loss: 0.3737\n",
            "Epoch 3/6\n",
            "62/62 [==============================] - 4s 64ms/step - accuracy: 0.8575 - loss: 0.3510\n",
            "Epoch 4/6\n",
            "62/62 [==============================] - 4s 64ms/step - accuracy: 0.8618 - loss: 0.3347\n",
            "Epoch 5/6\n",
            "62/62 [==============================] - 4s 65ms/step - accuracy: 0.8650 - loss: 0.3207\n",
            "Epoch 6/6\n",
            "62/62 [==============================] - 4s 62ms/step - accuracy: 0.8728 - loss: 0.3085\n"
          ],
          "name": "stdout"
        }
      ]
    },
    {
      "cell_type": "code",
      "metadata": {
        "id": "xXBdF9B5FeKy",
        "colab_type": "code",
        "outputId": "18a732d6-83d6-4bcf-f71e-bed4e301df90",
        "colab": {}
      },
      "source": [
        "sub['toxic'] = model.predict(test_dataset, verbose=1)\n",
        "sub.to_csv('submission.csv', index=False)"
      ],
      "execution_count": 0,
      "outputs": [
        {
          "output_type": "stream",
          "text": [
            "499/499 [==============================] - 16s 32ms/step\n"
          ],
          "name": "stdout"
        }
      ]
    }
  ]
}